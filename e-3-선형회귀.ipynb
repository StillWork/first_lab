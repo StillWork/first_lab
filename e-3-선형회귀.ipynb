{
 "cells": [
  {
   "cell_type": "markdown",
   "metadata": {},
   "source": [
    "선형회귀 \n",
    "==\n",
    "다루는 내용\n",
    "--\n",
    "- 선형회귀 개념\n",
    "- 머신러닝 개념\n",
    "- 경사하강법"
   ]
  },
  {
   "cell_type": "code",
   "execution_count": 1,
   "metadata": {},
   "outputs": [],
   "source": [
    "import  numpy as np"
   ]
  },
  {
   "cell_type": "markdown",
   "metadata": {},
   "source": [
    "독립변수 x 생성\n",
    "--"
   ]
  },
  {
   "cell_type": "code",
   "execution_count": 2,
   "metadata": {},
   "outputs": [
    {
     "name": "stdout",
     "output_type": "stream",
     "text": [
      "(100,)\n"
     ]
    },
    {
     "data": {
      "text/plain": [
       "array([0.35627615, 0.33264117, 0.63983014, 0.64855983, 0.99758731])"
      ]
     },
     "execution_count": 2,
     "metadata": {},
     "output_type": "execute_result"
    }
   ],
   "source": [
    "x = np.random.uniform(low=0.0, high=1.0, size=100)\n",
    "print(x.shape)\n",
    "x[:5]"
   ]
  },
  {
   "cell_type": "markdown",
   "metadata": {},
   "source": [
    "종속변수 y = wx + b 생성\n",
    "--"
   ]
  },
  {
   "cell_type": "code",
   "execution_count": 3,
   "metadata": {},
   "outputs": [
    {
     "name": "stdout",
     "output_type": "stream",
     "text": [
      "(100,)\n"
     ]
    },
    {
     "data": {
      "text/plain": [
       "array([ 5.56276151,  5.32641172,  8.39830137,  8.48559834, 11.97587307])"
      ]
     },
     "execution_count": 3,
     "metadata": {},
     "output_type": "execute_result"
    }
   ],
   "source": [
    "# w=10 , b=2\n",
    "y = 10* x + 2\n",
    "print (y.shape)\n",
    "y[0:5]"
   ]
  },
  {
   "cell_type": "markdown",
   "metadata": {},
   "source": [
    "가중치 w와 절편 b 학습\n",
    "--"
   ]
  },
  {
   "cell_type": "markdown",
   "metadata": {},
   "source": [
    " 경사하강법\n",
    "--"
   ]
  },
  {
   "cell_type": "code",
   "execution_count": 4,
   "metadata": {},
   "outputs": [
    {
     "name": "stdout",
     "output_type": "stream",
     "text": [
      " 0  w = 4.8243 ,  b = 6.9211 , error = 6.7079\n",
      " 1  w = 4.1831 ,  b = 4.6574 , error = 2.2781\n",
      " 2  w = 4.9378 ,  b = 4.9866 , error = 1.6797\n",
      " 3  w = 5.2485 ,  b = 4.5991 , error = 1.4343\n",
      " 4  w = 5.6449 ,  b = 4.4396 , error = 1.3439\n",
      " 5  w = 5.9789 ,  b = 4.2360 , error = 1.2306\n",
      " 6  w = 6.2957 ,  b = 4.0646 , error = 1.1366\n",
      " 7  w = 6.5851 ,  b = 3.9019 , error = 1.0470\n",
      " 8  w = 6.8526 ,  b = 3.7533 , error = 0.9652\n",
      " 9  w = 7.0989 ,  b = 3.6160 , error = 0.8896\n",
      "10  w = 7.3261 ,  b = 3.4895 , error = 0.8200\n",
      "11  w = 7.5354 ,  b = 3.3729 , error = 0.7558\n",
      "12  w = 7.7283 ,  b = 3.2654 , error = 0.6966\n",
      "13  w = 7.9062 ,  b = 3.1663 , error = 0.6421\n",
      "14  w = 8.0701 ,  b = 3.0750 , error = 0.5918\n",
      "15  w = 8.2212 ,  b = 2.9909 , error = 0.5455\n",
      "16  w = 8.3604 ,  b = 2.9133 , error = 0.5028\n",
      "17  w = 8.4888 ,  b = 2.8418 , error = 0.4634\n",
      "18  w = 8.6071 ,  b = 2.7759 , error = 0.4271\n",
      "19  w = 8.7161 ,  b = 2.7152 , error = 0.3937\n",
      "20  w = 8.8166 ,  b = 2.6592 , error = 0.3629\n",
      "21  w = 8.9093 ,  b = 2.6076 , error = 0.3345\n",
      "22  w = 8.9947 ,  b = 2.5600 , error = 0.3083\n",
      "23  w = 9.0734 ,  b = 2.5162 , error = 0.2841\n",
      "24  w = 9.1459 ,  b = 2.4758 , error = 0.2619\n",
      "25  w = 9.2128 ,  b = 2.4385 , error = 0.2414\n",
      "26  w = 9.2744 ,  b = 2.4042 , error = 0.2225\n",
      "27  w = 9.3312 ,  b = 2.3725 , error = 0.2051\n",
      "28  w = 9.3836 ,  b = 2.3434 , error = 0.1890\n",
      "29  w = 9.4318 ,  b = 2.3165 , error = 0.1742\n",
      "30  w = 9.4763 ,  b = 2.2917 , error = 0.1606\n",
      "31  w = 9.5173 ,  b = 2.2689 , error = 0.1480\n",
      "32  w = 9.5551 ,  b = 2.2478 , error = 0.1364\n",
      "33  w = 9.5899 ,  b = 2.2284 , error = 0.1257\n",
      "34  w = 9.6220 ,  b = 2.2106 , error = 0.1159\n",
      "35  w = 9.6516 ,  b = 2.1941 , error = 0.1068\n",
      "36  w = 9.6789 ,  b = 2.1789 , error = 0.0985\n",
      "37  w = 9.7040 ,  b = 2.1649 , error = 0.0908\n",
      "38  w = 9.7272 ,  b = 2.1520 , error = 0.0837\n",
      "39  w = 9.7485 ,  b = 2.1401 , error = 0.0771\n",
      "40  w = 9.7682 ,  b = 2.1291 , error = 0.0711\n",
      "41  w = 9.7864 ,  b = 2.1190 , error = 0.0655\n",
      "42  w = 9.8031 ,  b = 2.1097 , error = 0.0604\n",
      "43  w = 9.8185 ,  b = 2.1011 , error = 0.0557\n",
      "44  w = 9.8327 ,  b = 2.0932 , error = 0.0513\n",
      "------------------------------\n",
      "45  w = 9.8327 ,  b = 2.0932 , error = 0.0473\n"
     ]
    }
   ],
   "source": [
    "num_epoch = 300\n",
    "\n",
    "# 초기값은 랜덤하게 지정\n",
    "w = np.random.uniform(low=0.0, high=1.0)\n",
    "b = np.random.uniform(low=0.0, high=1.0)\n",
    "\n",
    "for epoch in range(num_epoch):\n",
    "    y_pred = w*x + b\n",
    "    error = np.abs(y_pred - y).mean()\n",
    "    if error < 0.05:\n",
    "        break\n",
    "    w = w - ((y_pred - y)*x).mean()\n",
    "    b = b - (y_pred - y).mean()\n",
    "    print(f\"{epoch:2}  w = {w:.4f} ,  b = {b:.4f} , error = {error:.4f}\")\n",
    "\n",
    "print(\"---\" * 10)\n",
    "print(f\"{epoch:2}  w = {w:.4f} ,  b = {b:.4f} , error = {error:.4f}\")\n"
   ]
  },
  {
   "cell_type": "markdown",
   "metadata": {},
   "source": [
    "변수가 2개인 경우\n",
    "--"
   ]
  },
  {
   "cell_type": "code",
   "execution_count": 5,
   "metadata": {},
   "outputs": [
    {
     "name": "stdout",
     "output_type": "stream",
     "text": [
      "(100,)\n"
     ]
    },
    {
     "data": {
      "text/plain": [
       "array([3.51595155, 6.08940523, 6.96655101, 6.92788011, 3.73138544])"
      ]
     },
     "execution_count": 5,
     "metadata": {},
     "output_type": "execute_result"
    }
   ],
   "source": [
    "x1 = np.random.uniform(low=0.0, high=1.0, size=100)\n",
    "x2 = np.random.uniform(low=0.0, high=1.0, size=100)\n",
    "\n",
    "y = 3 * x1 + 5* x2 + 2\n",
    "\n",
    "print(y.shape)\n",
    "y[:5]"
   ]
  },
  {
   "cell_type": "markdown",
   "metadata": {},
   "source": [
    "학습속도를 반영\n",
    "--"
   ]
  },
  {
   "cell_type": "code",
   "execution_count": 6,
   "metadata": {},
   "outputs": [
    {
     "name": "stdout",
     "output_type": "stream",
     "text": [
      " 0 w1 = 3.590841,  w2 = 3.951610, b = 5.790465 , error = 4.481176\n",
      " 1 w1 = 1.603157,  w2 = 2.000276, b = 1.527616 , error = 3.552374\n",
      " 2 w1 = 3.141260,  w2 = 3.785504, b = 4.589637 , error = 2.551685\n",
      " 3 w1 = 2.006700,  w2 = 2.711518, b = 2.108217 , error = 2.067851\n",
      " 4 w1 = 2.900283,  w2 = 3.783085, b = 3.842596 , error = 1.445568\n",
      " 5 w1 = 2.256232,  w2 = 3.206236, b = 2.389970 , error = 1.210521\n",
      " 6 w1 = 2.778706,  w2 = 3.860325, b = 3.364327 , error = 0.836642\n",
      " 7 w1 = 2.416419,  w2 = 3.563100, b = 2.506985 , error = 0.714452\n",
      " 8 w1 = 2.724950,  w2 = 3.971196, b = 3.047340 , error = 0.518275\n",
      " 9 w1 = 2.524255,  w2 = 3.829478, b = 2.535424 , error = 0.445023\n",
      "10 w1 = 2.709185,  w2 = 4.091158, b = 2.828885 , error = 0.357242\n",
      "11 w1 = 2.600899,  w2 = 4.034394, b = 2.518253 , error = 0.316236\n",
      "12 w1 = 2.714165,  w2 = 4.207712, b = 2.672074 , error = 0.275590\n",
      "13 w1 = 2.658468,  w2 = 4.196025, b = 2.479452 , error = 0.244406\n",
      "14 w1 = 2.729936,  w2 = 4.315028, b = 2.555006 , error = 0.222132\n",
      "15 w1 = 2.703923,  w2 = 4.326073, b = 2.432185 , error = 0.199974\n",
      "16 w1 = 2.750782,  w2 = 4.410891, b = 2.464493 , error = 0.183854\n",
      "17 w1 = 2.741289,  w2 = 4.432313, b = 2.383478 , error = 0.167760\n",
      "18 w1 = 2.773449,  w2 = 4.494985, b = 2.392442 , error = 0.155163\n",
      "19 w1 = 2.772929,  w2 = 4.520095, b = 2.336901 , error = 0.142400\n",
      "20 w1 = 2.796117,  w2 = 4.567930, b = 2.333759 , error = 0.132333\n",
      "21 w1 = 2.800260,  w2 = 4.593234, b = 2.294102 , error = 0.121780\n",
      "22 w1 = 2.817804,  w2 = 4.630761, b = 2.285138 , error = 0.113317\n",
      "23 w1 = 2.824165,  w2 = 4.654545, b = 2.255678 , error = 0.104470\n",
      "24 w1 = 2.838016,  w2 = 4.684641, b = 2.244348 , error = 0.097161\n",
      "25 w1 = 2.845224,  w2 = 4.706170, b = 2.221669 , error = 0.089689\n",
      "26 w1 = 2.856540,  w2 = 4.730721, b = 2.209828 , error = 0.083373\n",
      "27 w1 = 2.863843,  w2 = 4.749782, b = 2.191838 , error = 0.077057\n",
      "28 w1 = 2.873328,  w2 = 4.770065, b = 2.180436 , error = 0.071582\n",
      "29 w1 = 2.880330,  w2 = 4.786715, b = 2.165823 , error = 0.066212\n",
      "30 w1 = 2.888421,  w2 = 4.803630, b = 2.155305 , error = 0.061486\n",
      "31 w1 = 2.894928,  w2 = 4.818050, b = 2.143222 , error = 0.056897\n",
      "32 w1 = 2.901913,  w2 = 4.832251, b = 2.133757 , error = 0.052833\n",
      "33 w1 = 2.907846,  w2 = 4.844674, b = 2.123635 , error = 0.048924\n",
      "34 w1 = 2.913920,  w2 = 4.856655, b = 2.115246 , error = 0.045410\n",
      "35 w1 = 2.919262,  w2 = 4.867322, b = 2.106689 , error = 0.042071\n",
      "36 w1 = 2.924567,  w2 = 4.877466, b = 2.099323 , error = 0.039039\n",
      "37 w1 = 2.929338,  w2 = 4.886606, b = 2.092043 , error = 0.036183\n",
      "38 w1 = 2.933982,  w2 = 4.895217, b = 2.085616 , error = 0.033571\n",
      "39 w1 = 2.938219,  w2 = 4.903040, b = 2.079395 , error = 0.031132\n",
      "40 w1 = 2.942288,  w2 = 4.910363, b = 2.073810 , error = 0.028884\n",
      "41 w1 = 2.946034,  w2 = 4.917054, b = 2.068477 , error = 0.026789\n",
      "42 w1 = 2.949600,  w2 = 4.923291, b = 2.063636 , error = 0.024854\n",
      "43 w1 = 2.952902,  w2 = 4.929012, b = 2.059056 , error = 0.023054\n",
      "44 w1 = 2.956026,  w2 = 4.934331, b = 2.054867 , error = 0.021390\n",
      "45 w1 = 2.958929,  w2 = 4.939222, b = 2.050928 , error = 0.019842\n",
      "46 w1 = 2.961665,  w2 = 4.943762, b = 2.047308 , error = 0.018410\n",
      "47 w1 = 2.964213,  w2 = 4.947944, b = 2.043918 , error = 0.017079\n",
      "48 w1 = 2.966607,  w2 = 4.951822, b = 2.040791 , error = 0.015847\n",
      "49 w1 = 2.968839,  w2 = 4.955399, b = 2.037871 , error = 0.014702\n",
      "50 w1 = 2.970932,  w2 = 4.958713, b = 2.035172 , error = 0.013642\n",
      "51 w1 = 2.972885,  w2 = 4.961773, b = 2.032656 , error = 0.012657\n",
      "52 w1 = 2.974713,  w2 = 4.964607, b = 2.030327 , error = 0.011745\n",
      "53 w1 = 2.976420,  w2 = 4.967226, b = 2.028159 , error = 0.010898\n",
      "54 w1 = 2.978016,  w2 = 4.969651, b = 2.026150 , error = 0.010112\n",
      "------------------------------\n",
      "55 w1 = 2.9780,  w2 = 4.9697, b = 2.0262, error = 0.0094\n"
     ]
    }
   ],
   "source": [
    "num_epoch = 100\n",
    "learning_rate = 1.2\n",
    "\n",
    "w1 = np.random.uniform(low=0.0, high=1.0)\n",
    "w2 = np.random.uniform(low=0.0, high=1.0)\n",
    "b = np.random.uniform(low=0.0, high=1.0)\n",
    "\n",
    "for epoch in range(num_epoch):\n",
    "    y_pred = w1*x1 + w2*x2 + b\n",
    "    error = np.abs(y_pred - y).mean()\n",
    "    if error < 0.01:\n",
    "        break\n",
    "    w1 = w1 - learning_rate*((y_pred - y)* x1).mean()\n",
    "    w2 = w2 - learning_rate*((y_pred - y)* x2).mean()\n",
    "    b = b -learning_rate* ((y_pred - y)).mean()\n",
    "\n",
    "    print(f\"{epoch:2} w1 = {w1:.6f},  w2 = {w2:.6f}, b = {b:.6f} , error = {error:.6f}\")\n",
    "\n",
    "print(\"---\" * 10)\n",
    "print(f\"{epoch:2} w1 = {w1:.4f},  w2 = {w2:.4f}, b = {b:.4f}, error = {error:.4f}\")"
   ]
  },
  {
   "cell_type": "markdown",
   "metadata": {},
   "source": [
    "라이브러리를 이용\n",
    "--"
   ]
  },
  {
   "cell_type": "code",
   "execution_count": 7,
   "metadata": {},
   "outputs": [],
   "source": [
    "import pandas as pd\n",
    "from sklearn.linear_model import LinearRegression\n",
    "\n",
    "X = pd.DataFrame(x1)\n",
    "X[1]= x2"
   ]
  },
  {
   "cell_type": "code",
   "execution_count": 8,
   "metadata": {},
   "outputs": [
    {
     "name": "stdout",
     "output_type": "stream",
     "text": [
      "[3. 5.]\n",
      "2.0\n"
     ]
    }
   ],
   "source": [
    "leg = LinearRegression().fit(X, y)\n",
    "print(leg.coef_)\n",
    "print(leg.intercept_)"
   ]
  }
 ],
 "metadata": {
  "kernelspec": {
   "display_name": "Python 3",
   "language": "python",
   "name": "python3"
  },
  "language_info": {
   "codemirror_mode": {
    "name": "ipython",
    "version": 3
   },
   "file_extension": ".py",
   "mimetype": "text/x-python",
   "name": "python",
   "nbconvert_exporter": "python",
   "pygments_lexer": "ipython3",
   "version": "3.6.6"
  }
 },
 "nbformat": 4,
 "nbformat_minor": 2
}
